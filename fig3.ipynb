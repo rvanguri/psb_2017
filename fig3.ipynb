{
 "cells": [
  {
   "cell_type": "code",
   "execution_count": 1,
   "metadata": {
    "collapsed": true
   },
   "outputs": [],
   "source": [
    "import matplotlib.pyplot as plt\n",
    "import seaborn as sns\n",
    "import numpy as np\n",
    "import scipy"
   ]
  },
  {
   "cell_type": "code",
   "execution_count": 2,
   "metadata": {},
   "outputs": [
    {
     "name": "stdout",
     "output_type": "stream",
     "text": [
      "[  6.50647821e-01   2.75569528e-02   6.34274733e-04   7.40141023e-05]\n"
     ]
    }
   ],
   "source": [
    "drugs = [2762, 248230, 8080761, 1000000000]\n",
    "denom = [scipy.misc.comb(4245, 1),\n",
    "         scipy.misc.comb(4245, 2),\n",
    "         scipy.misc.comb(4245, 3),\n",
    "         scipy.misc.comb(4245, 4)]\n",
    "efficiency = np.divide(drugs, denom)\n",
    "print(efficiency)"
   ]
  },
  {
   "cell_type": "code",
   "execution_count": 57,
   "metadata": {},
   "outputs": [
    {
     "name": "stdout",
     "output_type": "stream",
     "text": [
      "0.65\n"
     ]
    }
   ],
   "source": [
    "print('%.2f' % efficiency[0])"
   ]
  },
  {
   "cell_type": "code",
   "execution_count": 9,
   "metadata": {},
   "outputs": [
    {
     "data": {
      "image/png": "[encoded data removed]",
      "text/plain": [
       "<matplotlib.figure.Figure at 0x108c43bd0>"
      ]
     },
     "metadata": {},
     "output_type": "display_data"
    }
   ],
   "source": [
    "fig, ax = plt.subplots()\n",
    "\n",
    "xls = np.arange(4)\n",
    "width = 0.5\n",
    "\n",
    "rs = ax.bar(xls, drugs, width, log=True)\n",
    "\n",
    "ax.set_ylabel('Number of models with 10+ reports')\n",
    "ax.set_xticks(xls + width / 2)\n",
    "ax.set_xticklabels(('1 drug', '2 drugs', '3 drugs', '4 drugs'))\n",
    "ax.set_xlim([-0.5, 4.])\n",
    "ax.set_ylim(ymax=2000000000)\n",
    "\n",
    "def autolabel(rects):\n",
    "    for rect in rects:\n",
    "        height = rect.get_height()\n",
    "        ax.text(rect.get_x() + rect.get_width()/2., 1.05*height,\n",
    "                '%d' % int(height),\n",
    "                ha='center', va='bottom')\n",
    "\n",
    "#autolabel(rs)\n",
    "height = rs[0].get_height()\n",
    "ax.text(rs[0].get_x() + rs[0].get_width()/2., 1.05*height,\n",
    "        \"{:.0%}\".format(efficiency[0]), ha='center', va='bottom')\n",
    "height = rs[1].get_height()\n",
    "ax.text(rs[1].get_x() + rs[1].get_width()/2., 1.05*height,\n",
    "        \"{:.0%}\".format(efficiency[1]), ha='center', va='bottom')\n",
    "height = rs[2].get_height()\n",
    "ax.text(rs[2].get_x() + rs[2].get_width()/2., 1.05*height,\n",
    "        \"< 1%\", ha='center', va='bottom')\n",
    "height = rs[3].get_height()\n",
    "ax.text(rs[3].get_x() + rs[3].get_width()/2., 1.05*height,\n",
    "        \"< 0.1%\", ha='center', va='bottom')\n",
    "rs[3].set_color('grey')\n",
    "\n",
    "plt.savefig('drug_interactions.eps', format='eps', dpi=1000)\n",
    "plt.show()"
   ]
  },
  {
   "cell_type": "code",
   "execution_count": null,
   "metadata": {
    "collapsed": true
   },
   "outputs": [],
   "source": []
  }
 ],
 "metadata": {
  "kernelspec": {
   "display_name": "Python 2",
   "language": "python",
   "name": "python2"
  },
  "language_info": {
   "codemirror_mode": {
    "name": "ipython",
    "version": 2
   },
   "file_extension": ".py",
   "mimetype": "text/x-python",
   "name": "python",
   "nbconvert_exporter": "python",
   "pygments_lexer": "ipython2",
   "version": "2.7.13"
  }
 },
 "nbformat": 4,
 "nbformat_minor": 2
}
