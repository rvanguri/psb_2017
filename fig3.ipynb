{
 "cells": [
  {
   "cell_type": "code",
   "execution_count": 3,
   "metadata": {
    "collapsed": true
   },
   "outputs": [],
   "source": [
    "import matplotlib.pyplot as plt\n",
    "import seaborn as sns\n",
    "import numpy as np\n",
    "import scipy"
   ]
  },
  {
   "cell_type": "code",
   "execution_count": 5,
   "metadata": {},
   "outputs": [
    {
     "name": "stdout",
     "output_type": "stream",
     "text": [
      "[  6.50647821e-01   2.75569528e-02   6.34274733e-04   7.40141023e-05]\n"
     ]
    }
   ],
   "source": [
    "drugs = [2762, 248230, 8080761, 1000000000]\n",
    "denom = [scipy.misc.comb(4245, 1),\n",
    "         scipy.misc.comb(4245, 2),\n",
    "         scipy.misc.comb(4245, 3),\n",
    "         scipy.misc.comb(4245, 4)]\n",
    "efficiency = np.divide(drugs, denom)\n",
    "print(efficiency)"
   ]
  },
  {
   "cell_type": "code",
   "execution_count": 57,
   "metadata": {},
   "outputs": [
    {
     "name": "stdout",
     "output_type": "stream",
     "text": [
      "0.65\n"
     ]
    }
   ],
   "source": [
    "print('%.2f' % efficiency[0])"
   ]
  },
  {
   "cell_type": "code",
   "execution_count": 6,
   "metadata": {},
   "outputs": [
    {
     "ename": "SyntaxError",
     "evalue": "invalid syntax (<ipython-input-6-dd24b5809d62>, line 10)",
     "output_type": "error",
     "traceback": [
      "\u001b[0;36m  File \u001b[0;32m\"<ipython-input-6-dd24b5809d62>\"\u001b[0;36m, line \u001b[0;32m10\u001b[0m\n\u001b[0;31m    ax.set_xticklabels(('1 drug', '2 drugs', '3 drugs', 4 drugs))\u001b[0m\n\u001b[0m                                                              ^\u001b[0m\n\u001b[0;31mSyntaxError\u001b[0m\u001b[0;31m:\u001b[0m invalid syntax\n"
     ]
    }
   ],
   "source": [
    "fig, ax = plt.subplots()\n",
    "\n",
    "xls = np.arange(3)\n",
    "width = 0.5\n",
    "\n",
    "rs = ax.bar(xls, drugs, width, log=True)\n",
    "\n",
    "ax.set_ylabel('Number of models with 10+ reports')\n",
    "ax.set_xticks(xls + width / 2)\n",
    "ax.set_xticklabels(('1 drug', '2 drugs', '3 drugs', 4 drugs))\n",
    "ax.set_xlim([-0.5, 3.])\n",
    "ax.set_ylim(ymax=15000000)\n",
    "\n",
    "def autolabel(rects):\n",
    "    for rect in rects:\n",
    "        height = rect.get_height()\n",
    "        ax.text(rect.get_x() + rect.get_width()/2., 1.05*height,\n",
    "                '%d' % int(height),\n",
    "                ha='center', va='bottom')\n",
    "\n",
    "#autolabel(rs)\n",
    "height = rs[0].get_height()\n",
    "ax.text(rs[0].get_x() + rs[0].get_width()/2., 1.05*height,\n",
    "        \"{:.0%}\".format(efficiency[0]), ha='center', va='bottom')\n",
    "height = rs[1].get_height()\n",
    "ax.text(rs[1].get_x() + rs[1].get_width()/2., 1.05*height,\n",
    "        \"{:.0%}\".format(efficiency[1]), ha='center', va='bottom')\n",
    "height = rs[2].get_height()\n",
    "ax.text(rs[2].get_x() + rs[2].get_width()/2., 1.05*height,\n",
    "        \"< 1%\", ha='center', va='bottom')\n",
    "height = rs[3].get_height()\n",
    "ax.text(rs[3].get_x() + rs[3].get_width()/2., 1.05*height,\n",
    "        \"< 0.1%\", ha='center', va='bottom')\n",
    "\n",
    "plt.savefig('drug_interactions.eps', format='eps', dpi=1000)\n",
    "plt.show()"
   ]
  },
  {
   "cell_type": "code",
   "execution_count": null,
   "metadata": {
    "collapsed": true
   },
   "outputs": [],
   "source": []
  }
 ],
 "metadata": {
  "kernelspec": {
   "display_name": "Python 2",
   "language": "python",
   "name": "python2"
  },
  "language_info": {
   "codemirror_mode": {
    "name": "ipython",
    "version": 2
   },
   "file_extension": ".py",
   "mimetype": "text/x-python",
   "name": "python",
   "nbconvert_exporter": "python",
   "pygments_lexer": "ipython2",
   "version": "2.7.13"
  }
 },
 "nbformat": 4,
 "nbformat_minor": 2
}
